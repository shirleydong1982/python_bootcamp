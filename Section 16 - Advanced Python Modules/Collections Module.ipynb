{
 "cells": [
  {
   "cell_type": "markdown",
   "metadata": {},
   "source": [
    "# Collections Module"
   ]
  },
  {
   "cell_type": "markdown",
   "metadata": {},
   "source": [
    "# Counter"
   ]
  },
  {
   "cell_type": "code",
   "execution_count": 1,
   "metadata": {
    "collapsed": true
   },
   "outputs": [],
   "source": [
    "#Counter\n",
    "\n",
    "from collections import Counter"
   ]
  },
  {
   "cell_type": "code",
   "execution_count": 2,
   "metadata": {
    "collapsed": true
   },
   "outputs": [],
   "source": [
    "l=[1,1,1,1,1,12,2,2,2,2,2]"
   ]
  },
  {
   "cell_type": "code",
   "execution_count": 3,
   "metadata": {},
   "outputs": [
    {
     "data": {
      "text/plain": [
       "Counter({1: 5, 2: 5, 12: 1})"
      ]
     },
     "execution_count": 3,
     "metadata": {},
     "output_type": "execute_result"
    }
   ],
   "source": [
    "Counter(l)"
   ]
  },
  {
   "cell_type": "code",
   "execution_count": 4,
   "metadata": {
    "collapsed": true
   },
   "outputs": [],
   "source": [
    "s='asssssvavavavasssbbbbsavava'"
   ]
  },
  {
   "cell_type": "code",
   "execution_count": 5,
   "metadata": {},
   "outputs": [
    {
     "data": {
      "text/plain": [
       "Counter({'a': 8, 'b': 4, 's': 9, 'v': 6})"
      ]
     },
     "execution_count": 5,
     "metadata": {},
     "output_type": "execute_result"
    }
   ],
   "source": [
    "Counter(s)"
   ]
  },
  {
   "cell_type": "code",
   "execution_count": 6,
   "metadata": {
    "collapsed": true
   },
   "outputs": [],
   "source": [
    "s='How many times does each word show up in this sentence word word shoe up up'"
   ]
  },
  {
   "cell_type": "code",
   "execution_count": 7,
   "metadata": {},
   "outputs": [
    {
     "data": {
      "text/plain": [
       "Counter({'How': 1,\n",
       "         'does': 1,\n",
       "         'each': 1,\n",
       "         'in': 1,\n",
       "         'many': 1,\n",
       "         'sentence': 1,\n",
       "         'shoe': 1,\n",
       "         'show': 1,\n",
       "         'this': 1,\n",
       "         'times': 1,\n",
       "         'up': 3,\n",
       "         'word': 3})"
      ]
     },
     "execution_count": 7,
     "metadata": {},
     "output_type": "execute_result"
    }
   ],
   "source": [
    "words=s.split()  # important for NLP process and text mining\n",
    "Counter(words)"
   ]
  },
  {
   "cell_type": "code",
   "execution_count": 8,
   "metadata": {
    "collapsed": true
   },
   "outputs": [],
   "source": [
    "c=Counter(words)"
   ]
  },
  {
   "cell_type": "code",
   "execution_count": 13,
   "metadata": {},
   "outputs": [
    {
     "data": {
      "text/plain": [
       "[('word', 3), ('up', 3)]"
      ]
     },
     "execution_count": 13,
     "metadata": {},
     "output_type": "execute_result"
    }
   ],
   "source": [
    "c.most_common(2)"
   ]
  },
  {
   "cell_type": "code",
   "execution_count": 21,
   "metadata": {},
   "outputs": [
    {
     "data": {
      "text/plain": [
       "[('this', 1), ('sentence', 1)]"
      ]
     },
     "execution_count": 21,
     "metadata": {},
     "output_type": "execute_result"
    }
   ],
   "source": [
    "c.most_common()[-3:-1]"
   ]
  },
  {
   "cell_type": "code",
   "execution_count": 20,
   "metadata": {},
   "outputs": [
    {
     "data": {
      "text/plain": [
       "[('shoe', 1), ('sentence', 1)]"
      ]
     },
     "execution_count": 20,
     "metadata": {},
     "output_type": "execute_result"
    }
   ],
   "source": [
    "c.most_common()[:-3:-1]"
   ]
  },
  {
   "cell_type": "code",
   "execution_count": 22,
   "metadata": {},
   "outputs": [
    {
     "data": {
      "text/plain": [
       "16"
      ]
     },
     "execution_count": 22,
     "metadata": {},
     "output_type": "execute_result"
    }
   ],
   "source": [
    "sum(c.values())"
   ]
  },
  {
   "cell_type": "markdown",
   "metadata": {},
   "source": [
    "# defaultdict"
   ]
  },
  {
   "cell_type": "code",
   "execution_count": 23,
   "metadata": {
    "collapsed": true
   },
   "outputs": [],
   "source": [
    "from collections import defaultdict"
   ]
  },
  {
   "cell_type": "code",
   "execution_count": 24,
   "metadata": {
    "collapsed": true
   },
   "outputs": [],
   "source": [
    "d={'k1':1}"
   ]
  },
  {
   "cell_type": "code",
   "execution_count": 25,
   "metadata": {},
   "outputs": [
    {
     "data": {
      "text/plain": [
       "1"
      ]
     },
     "execution_count": 25,
     "metadata": {},
     "output_type": "execute_result"
    }
   ],
   "source": [
    "d['k1']"
   ]
  },
  {
   "cell_type": "code",
   "execution_count": 26,
   "metadata": {},
   "outputs": [
    {
     "ename": "KeyError",
     "evalue": "'k2'",
     "output_type": "error",
     "traceback": [
      "\u001b[1;31m---------------------------------------------------------------------------\u001b[0m",
      "\u001b[1;31mKeyError\u001b[0m                                  Traceback (most recent call last)",
      "\u001b[1;32m<ipython-input-26-5a80989ca91c>\u001b[0m in \u001b[0;36m<module>\u001b[1;34m()\u001b[0m\n\u001b[1;32m----> 1\u001b[1;33m \u001b[0md\u001b[0m\u001b[1;33m[\u001b[0m\u001b[1;34m'k2'\u001b[0m\u001b[1;33m]\u001b[0m\u001b[1;33m\u001b[0m\u001b[0m\n\u001b[0m",
      "\u001b[1;31mKeyError\u001b[0m: 'k2'"
     ]
    }
   ],
   "source": [
    "d['k2']  # get an error if we call the key that does not exist in the dictionary"
   ]
  },
  {
   "cell_type": "code",
   "execution_count": 27,
   "metadata": {
    "collapsed": true
   },
   "outputs": [],
   "source": [
    "d=defaultdict(object)"
   ]
  },
  {
   "cell_type": "code",
   "execution_count": 28,
   "metadata": {},
   "outputs": [
    {
     "data": {
      "text/plain": [
       "<object at 0x1d049ed0d70>"
      ]
     },
     "execution_count": 28,
     "metadata": {},
     "output_type": "execute_result"
    }
   ],
   "source": [
    "d['one']"
   ]
  },
  {
   "cell_type": "code",
   "execution_count": 29,
   "metadata": {},
   "outputs": [
    {
     "name": "stdout",
     "output_type": "stream",
     "text": [
      "one\n"
     ]
    }
   ],
   "source": [
    "for item in d:\n",
    "    print(item)"
   ]
  },
  {
   "cell_type": "code",
   "execution_count": 30,
   "metadata": {
    "collapsed": true
   },
   "outputs": [],
   "source": [
    "d=defaultdict(lambda: 0)"
   ]
  },
  {
   "cell_type": "code",
   "execution_count": 31,
   "metadata": {},
   "outputs": [
    {
     "data": {
      "text/plain": [
       "0"
      ]
     },
     "execution_count": 31,
     "metadata": {},
     "output_type": "execute_result"
    }
   ],
   "source": [
    "d['one']  # it will always response for the dict even if the key does not exist"
   ]
  },
  {
   "cell_type": "code",
   "execution_count": 34,
   "metadata": {},
   "outputs": [],
   "source": [
    "d['two']=2"
   ]
  },
  {
   "cell_type": "code",
   "execution_count": 35,
   "metadata": {},
   "outputs": [
    {
     "data": {
      "text/plain": [
       "defaultdict(<function __main__.<lambda>>, {'one': 0, 'two': 2})"
      ]
     },
     "execution_count": 35,
     "metadata": {},
     "output_type": "execute_result"
    }
   ],
   "source": [
    "d"
   ]
  },
  {
   "cell_type": "markdown",
   "metadata": {},
   "source": [
    "# OrderedDict"
   ]
  },
  {
   "cell_type": "code",
   "execution_count": 37,
   "metadata": {
    "collapsed": true
   },
   "outputs": [],
   "source": [
    "# OrderedDict"
   ]
  },
  {
   "cell_type": "code",
   "execution_count": 48,
   "metadata": {
    "collapsed": true
   },
   "outputs": [],
   "source": [
    "d={}\n",
    "d['a']=1\n",
    "d['e']=5\n",
    "d['b']=2\n",
    "d['d']=4\n",
    "d['c']=3"
   ]
  },
  {
   "cell_type": "code",
   "execution_count": 51,
   "metadata": {},
   "outputs": [
    {
     "data": {
      "text/plain": [
       "{'a': 1, 'b': 2, 'c': 3, 'd': 4, 'e': 5}"
      ]
     },
     "execution_count": 51,
     "metadata": {},
     "output_type": "execute_result"
    }
   ],
   "source": [
    "d"
   ]
  },
  {
   "cell_type": "code",
   "execution_count": 52,
   "metadata": {},
   "outputs": [
    {
     "name": "stdout",
     "output_type": "stream",
     "text": [
      "a 1\n",
      "e 5\n",
      "b 2\n",
      "d 4\n",
      "c 3\n"
     ]
    }
   ],
   "source": [
    "for k,v in d.items():\n",
    "    print(k,v)"
   ]
  },
  {
   "cell_type": "code",
   "execution_count": 56,
   "metadata": {
    "collapsed": true
   },
   "outputs": [],
   "source": [
    "from collections import OrderedDict"
   ]
  },
  {
   "cell_type": "code",
   "execution_count": 57,
   "metadata": {
    "collapsed": true
   },
   "outputs": [],
   "source": [
    "d=OrderedDict()"
   ]
  },
  {
   "cell_type": "code",
   "execution_count": 58,
   "metadata": {
    "collapsed": true
   },
   "outputs": [],
   "source": [
    "d['a']=1\n",
    "d['e']=5\n",
    "d['b']=2\n",
    "d['d']=4\n",
    "d['c']=3"
   ]
  },
  {
   "cell_type": "code",
   "execution_count": 59,
   "metadata": {},
   "outputs": [
    {
     "name": "stdout",
     "output_type": "stream",
     "text": [
      "a 1\n",
      "e 5\n",
      "b 2\n",
      "d 4\n",
      "c 3\n"
     ]
    }
   ],
   "source": [
    "for k,v in d.items():\n",
    "    print(k,v)"
   ]
  },
  {
   "cell_type": "code",
   "execution_count": 60,
   "metadata": {},
   "outputs": [
    {
     "data": {
      "text/plain": [
       "OrderedDict([('a', 1), ('e', 5), ('b', 2), ('d', 4), ('c', 3)])"
      ]
     },
     "execution_count": 60,
     "metadata": {},
     "output_type": "execute_result"
    }
   ],
   "source": [
    "d"
   ]
  },
  {
   "cell_type": "code",
   "execution_count": 61,
   "metadata": {
    "collapsed": true
   },
   "outputs": [],
   "source": [
    "d1={}\n",
    "d1['a']=1\n",
    "d1['b']=2\n",
    "\n",
    "d2={}\n",
    "d2['b']=2\n",
    "d2['a']=1"
   ]
  },
  {
   "cell_type": "code",
   "execution_count": 62,
   "metadata": {},
   "outputs": [
    {
     "data": {
      "text/plain": [
       "True"
      ]
     },
     "execution_count": 62,
     "metadata": {},
     "output_type": "execute_result"
    }
   ],
   "source": [
    "d1==d2  # dictionary does not contain orders of the element, and it returns True"
   ]
  },
  {
   "cell_type": "code",
   "execution_count": 63,
   "metadata": {
    "collapsed": true
   },
   "outputs": [],
   "source": [
    "d1=OrderedDict()\n",
    "d1['a']=1\n",
    "d1['b']=2\n",
    "\n",
    "d2=OrderedDict()\n",
    "d2['b']=2\n",
    "d2['a']=1"
   ]
  },
  {
   "cell_type": "code",
   "execution_count": 64,
   "metadata": {},
   "outputs": [
    {
     "data": {
      "text/plain": [
       "False"
      ]
     },
     "execution_count": 64,
     "metadata": {},
     "output_type": "execute_result"
    }
   ],
   "source": [
    "d1==d2 #the items are added in a different order, and therefore it returns False"
   ]
  },
  {
   "cell_type": "markdown",
   "metadata": {},
   "source": [
    "# namedtuple"
   ]
  },
  {
   "cell_type": "code",
   "execution_count": 65,
   "metadata": {
    "collapsed": true
   },
   "outputs": [],
   "source": [
    "t=(1,2,3)"
   ]
  },
  {
   "cell_type": "code",
   "execution_count": 66,
   "metadata": {},
   "outputs": [
    {
     "data": {
      "text/plain": [
       "1"
      ]
     },
     "execution_count": 66,
     "metadata": {},
     "output_type": "execute_result"
    }
   ],
   "source": [
    "t[0]"
   ]
  },
  {
   "cell_type": "code",
   "execution_count": 67,
   "metadata": {
    "collapsed": true
   },
   "outputs": [],
   "source": [
    "from collections import namedtuple"
   ]
  },
  {
   "cell_type": "code",
   "execution_count": 68,
   "metadata": {
    "collapsed": true
   },
   "outputs": [],
   "source": [
    "Dog=namedtuple('Dog','age breed name')"
   ]
  },
  {
   "cell_type": "code",
   "execution_count": 69,
   "metadata": {
    "collapsed": true
   },
   "outputs": [],
   "source": [
    "sam=Dog(age=2,breed='Lab',name='Sammy')"
   ]
  },
  {
   "cell_type": "code",
   "execution_count": 70,
   "metadata": {},
   "outputs": [
    {
     "data": {
      "text/plain": [
       "Dog(age=2, breed='Lab', name='Sammy')"
      ]
     },
     "execution_count": 70,
     "metadata": {},
     "output_type": "execute_result"
    }
   ],
   "source": [
    "sam"
   ]
  },
  {
   "cell_type": "code",
   "execution_count": 71,
   "metadata": {},
   "outputs": [
    {
     "data": {
      "text/plain": [
       "2"
      ]
     },
     "execution_count": 71,
     "metadata": {},
     "output_type": "execute_result"
    }
   ],
   "source": [
    "sam.age"
   ]
  },
  {
   "cell_type": "code",
   "execution_count": 72,
   "metadata": {},
   "outputs": [
    {
     "data": {
      "text/plain": [
       "'Lab'"
      ]
     },
     "execution_count": 72,
     "metadata": {},
     "output_type": "execute_result"
    }
   ],
   "source": [
    "sam.breed"
   ]
  },
  {
   "cell_type": "code",
   "execution_count": 73,
   "metadata": {},
   "outputs": [
    {
     "data": {
      "text/plain": [
       "2"
      ]
     },
     "execution_count": 73,
     "metadata": {},
     "output_type": "execute_result"
    }
   ],
   "source": [
    "sam[0]"
   ]
  },
  {
   "cell_type": "code",
   "execution_count": 74,
   "metadata": {
    "collapsed": true
   },
   "outputs": [],
   "source": [
    "Cat=namedtuple('Cat','fur claws name')"
   ]
  },
  {
   "cell_type": "code",
   "execution_count": 75,
   "metadata": {
    "collapsed": true
   },
   "outputs": [],
   "source": [
    "c=Cat(fur='Fuzzy',claws=False,name='kitty')"
   ]
  },
  {
   "cell_type": "code",
   "execution_count": 76,
   "metadata": {},
   "outputs": [
    {
     "data": {
      "text/plain": [
       "Cat(fur='Fuzzy', claws=False, name='kitty')"
      ]
     },
     "execution_count": 76,
     "metadata": {},
     "output_type": "execute_result"
    }
   ],
   "source": [
    "c"
   ]
  },
  {
   "cell_type": "code",
   "execution_count": 77,
   "metadata": {},
   "outputs": [
    {
     "data": {
      "text/plain": [
       "'Fuzzy'"
      ]
     },
     "execution_count": 77,
     "metadata": {},
     "output_type": "execute_result"
    }
   ],
   "source": [
    "c.fur"
   ]
  },
  {
   "cell_type": "code",
   "execution_count": 78,
   "metadata": {},
   "outputs": [
    {
     "data": {
      "text/plain": [
       "'kitty'"
      ]
     },
     "execution_count": 78,
     "metadata": {},
     "output_type": "execute_result"
    }
   ],
   "source": [
    "c.name"
   ]
  },
  {
   "cell_type": "code",
   "execution_count": 80,
   "metadata": {},
   "outputs": [
    {
     "data": {
      "text/plain": [
       "'kitty'"
      ]
     },
     "execution_count": 80,
     "metadata": {},
     "output_type": "execute_result"
    }
   ],
   "source": [
    "c[2]"
   ]
  },
  {
   "cell_type": "code",
   "execution_count": 81,
   "metadata": {},
   "outputs": [
    {
     "name": "stdout",
     "output_type": "stream",
     "text": [
      "\n",
      "Please wait a moment while I gather a list of all available modules...\n",
      "\n"
     ]
    },
    {
     "name": "stderr",
     "output_type": "stream",
     "text": [
      "C:\\Users\\sdong\\Anaconda3\\lib\\site-packages\\IPython\\kernel\\__init__.py:13: ShimWarning: The `IPython.kernel` package has been deprecated since IPython 4.0.You should import from ipykernel or jupyter_client instead.\n",
      "  \"You should import from ipykernel or jupyter_client instead.\", ShimWarning)\n",
      "WARNING: AstropyDeprecationWarning: The astropy.vo.samp module has now been moved to astropy.samp [astropy.vo.samp]\n",
      "C:\\Users\\sdong\\Anaconda3\\lib\\site-packages\\odo\\backends\\pandas.py:102: FutureWarning: pandas.tslib is deprecated and will be removed in a future version.\n",
      "You can access NaTType as type(pandas.NaT)\n",
      "  @convert.register((pd.Timestamp, pd.Timedelta), (pd.tslib.NaTType, type(None)))\n",
      "C:\\Users\\sdong\\Anaconda3\\lib\\site-packages\\nltk\\twitter\\__init__.py:20: UserWarning: The twython library has not been installed. Some functionality from the twitter package will not be available.\n",
      "  warnings.warn(\"The twython library has not been installed. \"\n",
      "C:\\Users\\sdong\\Anaconda3\\lib\\site-packages\\skimage\\viewer\\utils\\core.py:10: UserWarning: Recommended matplotlib backend is `Agg` for full skimage.viewer functionality.\n",
      "  warn(\"Recommended matplotlib backend is `Agg` for full \"\n",
      "C:\\Users\\sdong\\Anaconda3\\lib\\site-packages\\qtawesome\\iconic_font.py:268: UserWarning: You need to have a running QApplication to use QtAwesome!\n",
      "  warnings.warn(\"You need to have a running \"\n",
      "C:\\Users\\sdong\\Anaconda3\\lib\\site-packages\\statsmodels\\compat\\pandas.py:56: FutureWarning: The pandas.core.datetools module is deprecated and will be removed in a future version. Please use the pandas.tseries module instead.\n",
      "  from pandas.core import datetools\n"
     ]
    },
    {
     "name": "stdout",
     "output_type": "stream",
     "text": [
      "Crypto              cProfile            mistune             spyder_io_dcm\n",
      "Cython              cachecontrol        mkl                 spyder_io_hdf5\n",
      "IPython             calendar            mmap                spyder_profiler\n",
      "OleFileIO_PL        certifi             mmapfile            spyder_pylint\n",
      "OpenSSL             cffi                mmsystem            sqlalchemy\n",
      "PIL                 cgi                 modulefinder        sqlite3\n",
      "PyQt5               cgitb               mpmath              sre_compile\n",
      "__future__          chardet             msgpack             sre_constants\n",
      "_ast                chunk               msilib              sre_parse\n",
      "_asyncio            click               msvcrt              ssl\n",
      "_bisect             cloudpickle         multipledispatch    sspi\n",
      "_blake2             clyent              multiprocessing     sspicon\n",
      "_bootlocale         cmath               navigator_updater   stat\n",
      "_bz2                cmd                 nbconvert           statistics\n",
      "_cffi_backend       code                nbformat            statsmodels\n",
      "_codecs             codecs              netbios             storemagic\n",
      "_codecs_cn          codeop              netrc               string\n",
      "_codecs_hk          collections         networkx            stringprep\n",
      "_codecs_iso2022     colorama            nltk                struct\n",
      "_codecs_jp          colorsys            nntplib             subprocess\n",
      "_codecs_kr          commctrl            nose                sunau\n",
      "_codecs_tw          compileall          notebook            symbol\n",
      "_collections        comtypes            nt                  sympy\n",
      "_collections_abc    concurrent          ntpath              sympyprinting\n",
      "_compat_pickle      conda               ntsecuritycon       symtable\n",
      "_compression        conda_build         nturl2path          sys\n",
      "_csv                conda_env           numba               sysconfig\n",
      "_ctypes             conda_verify        numbers             tables\n",
      "_ctypes_test        configparser        numexpr             tabnanny\n",
      "_datetime           contextlib          numpy               tarfile\n",
      "_decimal            contextlib2         numpydoc            tblib\n",
      "_dummy_thread       copy                odbc                telnetlib\n",
      "_elementtree        copyreg             odo                 tempfile\n",
      "_findvs             crypt               olefile             test\n",
      "_functools          cryptography        opcode              test_path\n",
      "_hashlib            csv                 openpyxl            test_pycosat\n",
      "_heapq              ctypes              operator            testpath\n",
      "_imp                curl                optparse            tests\n",
      "_io                 curses              os                  textwrap\n",
      "_json               cwp                 packaging           this\n",
      "_locale             cycler              pandas              threading\n",
      "_lsprof             cython              pandocfilters       time\n",
      "_lzma               cythonmagic         parser              timeit\n",
      "_markupbase         cytoolz             partd               timer\n",
      "_md5                dask                path                tkinter\n",
      "_msi                datashape           pathlib             tlz\n",
      "_multibytecodec     datetime            pathlib2            token\n",
      "_multiprocessing    dateutil            patsy               tokenize\n",
      "_nsis               dbi                 pdb                 toolz\n",
      "_opcode             dbm                 pep8                tornado\n",
      "_operator           dde                 perfmon             trace\n",
      "_osx_support        decimal             pickle              traceback\n",
      "_overlapped         decorator           pickleshare         tracemalloc\n",
      "_pickle             difflib             pickletools         traitlets\n",
      "_pydecimal          dis                 pip                 tty\n",
      "_pyio               distlib             pipes               turtle\n",
      "_pytest             distributed         pkg_resources       turtledemo\n",
      "_random             distutils           pkginfo             types\n",
      "_sha1               doctest             pkgutil             typing\n",
      "_sha256             docutils            platform            unicodecsv\n",
      "_sha3               dummy_threading     plistlib            unicodedata\n",
      "_sha512             easy_install        ply                 unittest\n",
      "_signal             email               poplib              urllib\n",
      "_sitebuiltins       encodings           posixpath           urllib3\n",
      "_socket             entrypoints         pprint              uu\n",
      "_sqlite3            enum                profile             uuid\n",
      "_sre                errno               progress            venv\n",
      "_ssl                et_xmlfile          prompt_toolkit      warnings\n",
      "_stat               fastcache           pstats              wave\n",
      "_string             faulthandler        psutil              wcwidth\n",
      "_strptime           filecmp             pty                 weakref\n",
      "_struct             fileinput           py                  webbrowser\n",
      "_symtable           filelock            py_compile          webencodings\n",
      "_system_path        flask               pyclbr              werkzeug\n",
      "_testbuffer         flask_cors          pycodestyle         wheel\n",
      "_testcapi           fnmatch             pycosat             widgetsnbextension\n",
      "_testconsole        formatter           pycparser           win2kras\n",
      "_testimportmultiple fractions           pycurl              win32api\n",
      "_testmultiphase     ftplib              pydoc               win32clipboard\n",
      "_thread             functools           pydoc_data          win32com\n",
      "_threading_local    gc                  pyexpat             win32con\n",
      "_tkinter            genericpath         pyflakes            win32console\n",
      "_tracemalloc        getopt              pygments            win32cred\n",
      "_warnings           getpass             pylab               win32crypt\n",
      "_weakref            gettext             pylint              win32cryptcon\n",
      "_weakrefset         gevent              pyodbc              win32event\n",
      "_win32sysloader     glob                pyparsing           win32evtlog\n",
      "_winapi             glob2               pytest              win32evtlogutil\n",
      "_winxptheme         greenlet            pythoncom           win32file\n",
      "_yaml               gzip                pytz                win32gui\n",
      "abc                 h5py                pywin               win32gui_struct\n",
      "adodbapi            hashlib             pywin32_testutil    win32help\n",
      "afxres              heapdict            pywintypes          win32inet\n",
      "aifc                heapq               pywt                win32inetcon\n",
      "alabaster           hmac                pyximport           win32job\n",
      "anaconda_navigator  html                qtawesome           win32lz\n",
      "anaconda_project    html5lib            qtconsole           win32net\n",
      "antigravity         http                qtpy                win32netcon\n",
      "argparse            idlelib             queue               win32pdh\n",
      "array               idna                quopri              win32pdhquery\n",
      "asn1crypto          imageio             random              win32pdhutil\n",
      "ast                 imagesize           rasutil             win32pipe\n",
      "astroid             imaplib             re                  win32print\n",
      "astropy             imghdr              regcheck            win32process\n",
      "asynchat            imp                 regutil             win32profile\n",
      "asyncio             importlib           reprlib             win32ras\n",
      "asyncore            inspect             requests            win32rcparser\n",
      "atexit              io                  rlcompleter         win32security\n",
      "audioop             ipaddress           rmagic              win32service\n",
      "autoreload          ipykernel           rope                win32serviceutil\n",
      "babel               ipykernel_launcher  ruamel_yaml         win32timezone\n",
      "backports           ipython_genutils    run                 win32trace\n",
      "base64              ipywidgets          runpy               win32traceutil\n",
      "bdb                 isapi               sched               win32transaction\n",
      "binascii            isort               scipy               win32ts\n",
      "binhex              itertools           scripts             win32ui\n",
      "binstar_client      itsdangerous        seaborn             win32uiole\n",
      "bisect              jdcal               secrets             win32verstamp\n",
      "bitarray            jedi                select              win32wnet\n",
      "bkcharts            jinja2              selectors           win_inet_pton\n",
      "blaze               json                servicemanager      win_unicode_console\n",
      "bleach              jsonschema          setuptools          wincertstore\n",
      "bokeh               jupyter             shelve              winerror\n",
      "boto                jupyter_client      shlex               winioctlcon\n",
      "bottleneck          jupyter_console     shutil              winnt\n",
      "brain_builtin_inference jupyter_core        signal              winperf\n",
      "brain_collections   jupyterlab          simplegeneric       winreg\n",
      "brain_dateutil      jupyterlab_launcher singledispatch      winsound\n",
      "brain_fstrings      keyword             singledispatch_helpers winxpgui\n",
      "brain_functools     lazy_object_proxy   sip                 winxptheme\n",
      "brain_gi            lib2to3             sipconfig           wrapt\n",
      "brain_hashlib       linecache           sipdistutils        wsgiref\n",
      "brain_io            llvmlite            site                xdrlib\n",
      "brain_mechanize     locale              six                 xlrd\n",
      "brain_multiprocessing locket              skimage             xlsxwriter\n",
      "brain_namedtuple_enum lockfile            sklearn             xlwings\n",
      "brain_nose          logging             smtpd               xlwt\n",
      "brain_numpy         lxml                smtplib             xml\n",
      "brain_pkg_resources lzma                sndhdr              xmlrpc\n",
      "brain_pytest        macpath             snowballstemmer     xxsubtype\n",
      "brain_qt            macurl2path         socket              yaml\n",
      "brain_re            mailbox             socketserver        zict\n",
      "brain_six           mailcap             socks               zipapp\n",
      "brain_ssl           markupsafe          sockshandler        zipfile\n",
      "brain_subprocess    marshal             sortedcollections   zipimport\n",
      "brain_threading     math                sortedcontainers    zlib\n",
      "brain_typing        matplotlib          sphinx              zmq\n",
      "bs4                 mccabe              sphinxcontrib       \n",
      "builtins            menuinst            spyder              \n",
      "bz2                 mimetypes           spyder_breakpoints  \n",
      "\n",
      "Enter any module name to get more help.  Or, type \"modules spam\" to search\n",
      "for modules whose name or summary contain the string \"spam\".\n",
      "\n"
     ]
    }
   ],
   "source": [
    "help('modules') # check the installed python library/modules on PC"
   ]
  },
  {
   "cell_type": "code",
   "execution_count": null,
   "metadata": {
    "collapsed": true
   },
   "outputs": [],
   "source": []
  }
 ],
 "metadata": {
  "kernelspec": {
   "display_name": "Python 3",
   "language": "python",
   "name": "python3"
  },
  "language_info": {
   "codemirror_mode": {
    "name": "ipython",
    "version": 3
   },
   "file_extension": ".py",
   "mimetype": "text/x-python",
   "name": "python",
   "nbconvert_exporter": "python",
   "pygments_lexer": "ipython3",
   "version": "3.6.3"
  }
 },
 "nbformat": 4,
 "nbformat_minor": 2
}
